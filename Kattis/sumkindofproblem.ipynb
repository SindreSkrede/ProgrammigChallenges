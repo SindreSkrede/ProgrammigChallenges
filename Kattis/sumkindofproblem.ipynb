{
 "cells": [
  {
   "cell_type": "code",
   "execution_count": 82,
   "metadata": {},
   "outputs": [
    {
     "data": {
      "text/plain": [
       "'3\\n1 1\\n2 10\\n3 1001\\n'"
      ]
     },
     "execution_count": 82,
     "metadata": {},
     "output_type": "execute_result"
    }
   ],
   "source": [
    "data = open('data/sumkindofproblem/sample001.in', 'r').read()\n",
    "#data = data[:-1]\n",
    "data"
   ]
  },
  {
   "cell_type": "code",
   "execution_count": 81,
   "metadata": {},
   "outputs": [],
   "source": [
    "#import sys\n",
    "#data = list(sys.stdin)"
   ]
  },
  {
   "cell_type": "code",
   "execution_count": 83,
   "metadata": {},
   "outputs": [
    {
     "name": "stdout",
     "output_type": "stream",
     "text": [
      "\n",
      "\n",
      "1\n",
      " \n",
      "1\n",
      "\n",
      "\n",
      "2\n",
      " \n",
      "1\n",
      "0\n",
      "\n",
      "\n",
      "3\n",
      " \n",
      "1\n",
      "0\n",
      "0\n",
      "1\n",
      "\n",
      "\n"
     ]
    }
   ],
   "source": [
    "for i in data[1:]:\n",
    "    print(i)\n",
    "    vals = list(map(int,i.split()))\n",
    "    #s1 = sum(list(range(1, vals[1]  + 1,    1)))\n",
    "    #s2 = sum(list(range(1, vals[1]  * 2,    2)))\n",
    "    #s3 = sum(list(range(0, (vals[1] + 1)*2, 2)))\n",
    "    #print(vals[0], s1, s2, s3)\n",
    "    #print(vals)"
   ]
  },
  {
   "cell_type": "code",
   "execution_count": 84,
   "metadata": {},
   "outputs": [
    {
     "data": {
      "text/plain": [
       "[0, 2, 4, 6, 8, 10]"
      ]
     },
     "execution_count": 84,
     "metadata": {},
     "output_type": "execute_result"
    }
   ],
   "source": [
    "list(range(0,10+1,2))"
   ]
  },
  {
   "cell_type": "code",
   "execution_count": 62,
   "metadata": {},
   "outputs": [
    {
     "data": {
      "text/plain": [
       "[]"
      ]
     },
     "execution_count": 62,
     "metadata": {},
     "output_type": "execute_result"
    }
   ],
   "source": [
    "import sys\n",
    "list(sys.stdin)"
   ]
  }
 ],
 "metadata": {
  "kernelspec": {
   "display_name": "Python 3",
   "language": "python",
   "name": "python3"
  },
  "language_info": {
   "codemirror_mode": {
    "name": "ipython",
    "version": 3
   },
   "file_extension": ".py",
   "mimetype": "text/x-python",
   "name": "python",
   "nbconvert_exporter": "python",
   "pygments_lexer": "ipython3",
   "version": "3.7.0"
  }
 },
 "nbformat": 4,
 "nbformat_minor": 2
}
